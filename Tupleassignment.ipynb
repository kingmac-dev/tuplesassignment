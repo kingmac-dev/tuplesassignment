{
 "cells": [
  {
   "cell_type": "markdown",
   "id": "f323bbef-1712-4e9c-af9a-a3c5d3375233",
   "metadata": {},
   "source": [
    "# Assignment - 6 (Tuples)"
   ]
  },
  {
   "cell_type": "markdown",
   "id": "ae65b208-05b3-4b20-80c2-e9cb73e00d2e",
   "metadata": {},
   "source": [
    "Q1. What is a tuple in Python?"
   ]
  },
  {
   "cell_type": "markdown",
   "id": "9a004fa3-bc68-480f-8366-8b7ac416ba05",
   "metadata": {},
   "source": [
    "A1. A tuple in Python is a collection of objects that are ordered, unchangeable, and allow duplicate values. It is similar to a list, but it is immutable, meaning that you cannot add, remove, or modify its elements once it is created. Tuples are written with round brackets and separated by commas.For example;"
   ]
  },
  {
   "cell_type": "code",
   "execution_count": null,
   "id": "b4ad0cbb-983c-4d02-8a7d-e2791ce8333f",
   "metadata": {},
   "outputs": [],
   "source": [
    " mytuple = (\"apple\", \"banana\", \"cherry\") #is a tuple with three elements."
   ]
  },
  {
   "cell_type": "code",
   "execution_count": 9,
   "id": "57b70aa0-4284-437c-b3c1-305964729af0",
   "metadata": {},
   "outputs": [
    {
     "data": {
      "text/plain": [
       "tuple"
      ]
     },
     "execution_count": 9,
     "metadata": {},
     "output_type": "execute_result"
    }
   ],
   "source": [
    "type(mytuple)"
   ]
  },
  {
   "cell_type": "markdown",
   "id": "692c1b23-66fb-45bc-89de-b47d94634fc2",
   "metadata": {},
   "source": [
    " Tuples are useful when you want to store data that should not be changed, such as constants or configuration settings. They also have some advantages over lists, such as faster execution and less memory usage."
   ]
  },
  {
   "cell_type": "markdown",
   "id": "fd7064e9-acf2-4b52-b025-1e63216876ba",
   "metadata": {},
   "source": [
    "Q2. How do you create a tuple in Python?"
   ]
  },
  {
   "cell_type": "markdown",
   "id": "c0f2c8fc-1a3b-4591-8144-121f5ecf3241",
   "metadata": {},
   "source": [
    "A2) By using Using parentheses: You can simply enclose the elements of the tuple in parentheses, separated by commas. One can make tuple in Python  For example, the following code creates a tuple with three elements:"
   ]
  },
  {
   "cell_type": "code",
   "execution_count": 2,
   "id": "295d766a-0335-4045-9eab-d421c904fc1c",
   "metadata": {},
   "outputs": [],
   "source": [
    "tuple1 = (\"apple\", \"banana\", \"cherry\")"
   ]
  },
  {
   "cell_type": "code",
   "execution_count": 7,
   "id": "eb34db3c-1c95-46fd-85d7-667a0f53022b",
   "metadata": {},
   "outputs": [
    {
     "name": "stdout",
     "output_type": "stream",
     "text": [
      "<class 'tuple'>\n"
     ]
    }
   ],
   "source": [
    "print(type(tuple1))"
   ]
  },
  {
   "cell_type": "markdown",
   "id": "11feab83-838f-4bce-9c79-a9cd1854baf1",
   "metadata": {},
   "source": [
    "Or one can make using tuple() function. for example ;"
   ]
  },
  {
   "cell_type": "code",
   "execution_count": 3,
   "id": "dc77d938-e996-4605-a8f2-65f93baf96c7",
   "metadata": {},
   "outputs": [],
   "source": [
    "tuple2 = tuple((\"apple\", \"banana\", \"cherry\"))"
   ]
  },
  {
   "cell_type": "code",
   "execution_count": 8,
   "id": "eec41db7-14a8-4222-b773-f1972bafa695",
   "metadata": {},
   "outputs": [
    {
     "name": "stdout",
     "output_type": "stream",
     "text": [
      "<class 'tuple'>\n"
     ]
    }
   ],
   "source": [
    "print(type(tuple2))"
   ]
  },
  {
   "cell_type": "markdown",
   "id": "170cc175-1c70-4423-af19-227b6c571aed",
   "metadata": {},
   "source": [
    "Q3. What is the difference between a tuple and a list in Python?"
   ]
  },
  {
   "cell_type": "markdown",
   "id": "fbb7eb2b-8c40-4bcd-8882-0f78774ec5b5",
   "metadata": {},
   "source": [
    "A3 )  The difference between a tuple and a list in Python are as follows :-"
   ]
  },
  {
   "cell_type": "markdown",
   "id": "d5663fa5-5828-4c22-a135-6cabad50fcc6",
   "metadata": {},
   "source": [
    "1) The difference between a tuple and a list in Python is that a tuple is immutable and a list is mutable12. This means that you can change the elements of a list, but you cannot change the elements of a tuple once they are created. For example, you can use the append() method to add a new element to a list, but you cannot do the same for a tuple. You can only create a new tuple with the new element."
   ]
  },
  {
   "cell_type": "markdown",
   "id": "54de264e-894c-4327-a76f-74560fef6eb6",
   "metadata": {},
   "source": [
    "2) Another difference is that tuples are denoted by round brackets () and lists are denoted by square brackets []. For example, mytuple = (1, 2, 3) is a tuple with three elements, and mylist = [1, 2, 3] is a list with three elements. You can access the elements of both tuples and lists by using their index values, such as mytuple[0] or mylist[0] for the first element."
   ]
  },
  {
   "cell_type": "markdown",
   "id": "5be7f60c-a9e2-46c2-94de-218d9134ccef",
   "metadata": {},
   "source": [
    "3. Tuples and lists have some advantages and disadvantages over each other. Tuples are faster and more memory-efficient than lists because they are stored in a single memory block13. They are also useful when you want to store data that should not be changed, such as constants or configuration settings. Lists have more built-in methods than tuples, such as sort(), reverse(), pop(), etc., which make them more flexible and convenient for performing operations on the data."
   ]
  },
  {
   "cell_type": "markdown",
   "id": "a8b8edcd-b572-4e56-8fb8-43f926dc9cc9",
   "metadata": {},
   "source": [
    "Q4. Can a tuple be changed in Python?"
   ]
  },
  {
   "cell_type": "markdown",
   "id": "c6f898a6-b406-4bc1-b4a5-81a02203ad7d",
   "metadata": {},
   "source": [
    "A4 ) No, tuples in Python cannot be changed. Tuples are immutable, which means that their elements cannot be changed once the tuple is created. This is in contrast to lists, which are mutable and can have their elements changed.\n",
    "\n",
    "Here is an example of an attempt to change a tuple in Python:"
   ]
  },
  {
   "cell_type": "code",
   "execution_count": 10,
   "id": "fef79a1f-2772-4b4e-bc8d-3073032a00fd",
   "metadata": {},
   "outputs": [],
   "source": [
    "tuple1 = (\"apple\", \"banana\", \"cherry\")\n",
    "#let replace banana with mango"
   ]
  },
  {
   "cell_type": "code",
   "execution_count": 11,
   "id": "604957a8-3a55-4524-8fe9-c6444ef1a910",
   "metadata": {},
   "outputs": [
    {
     "ename": "TypeError",
     "evalue": "'tuple' object does not support item assignment",
     "output_type": "error",
     "traceback": [
      "\u001b[0;31m---------------------------------------------------------------------------\u001b[0m",
      "\u001b[0;31mTypeError\u001b[0m                                 Traceback (most recent call last)",
      "Cell \u001b[0;32mIn[11], line 1\u001b[0m\n\u001b[0;32m----> 1\u001b[0m \u001b[43mtuple1\u001b[49m\u001b[43m[\u001b[49m\u001b[38;5;241;43m0\u001b[39;49m\u001b[43m]\u001b[49m \u001b[38;5;241m=\u001b[39m\u001b[38;5;124m\"\u001b[39m\u001b[38;5;124mmango\u001b[39m\u001b[38;5;124m\"\u001b[39m\n",
      "\u001b[0;31mTypeError\u001b[0m: 'tuple' object does not support item assignment"
     ]
    }
   ],
   "source": [
    "tuple1[0] =\"mango\""
   ]
  },
  {
   "cell_type": "markdown",
   "id": "bfdea9d2-02fe-4531-b324-5541d7ad55bc",
   "metadata": {},
   "source": [
    "As you can see, the attempt to change the first element of the tuple tuple1 failed with a TypeError. This is because tuples are immutable and their elements cannot be changed.\n",
    "\n",
    "If you need to be able to change the elements of a collection in Python, you should use a list instead of a tuple. Lists are mutable and can have their elements changed at any time."
   ]
  },
  {
   "cell_type": "markdown",
   "id": "eec007ba-05aa-42e3-bafa-52cb6ae33124",
   "metadata": {},
   "source": [
    "Q5. How do you access elements in a tuple?"
   ]
  },
  {
   "cell_type": "markdown",
   "id": "7da6db02-2866-4fbc-9edc-26972462cf7a",
   "metadata": {},
   "source": [
    "A5 .\n",
    "We can access elements in a tuple in Python using the index operator []. The index operator takes a single argument, which is the index of the element you want to access. The index starts at 0, so the first element of a tuple has an index of 0, the second element has an index of 1, and so on."
   ]
  },
  {
   "cell_type": "markdown",
   "id": "e422b5a3-11e6-4218-8489-d87a4a9e63bf",
   "metadata": {},
   "source": [
    "For example, the following code accesses the first element of the tuple tuple1:"
   ]
  },
  {
   "cell_type": "code",
   "execution_count": 12,
   "id": "0f9a4bf5-1da6-4a88-a961-e67795b76557",
   "metadata": {},
   "outputs": [],
   "source": [
    "tuple1 = (\"apple\", \"banana\", \"cherry\")"
   ]
  },
  {
   "cell_type": "code",
   "execution_count": 13,
   "id": "c9268ed6-d6eb-4054-87c8-03afb07622f2",
   "metadata": {},
   "outputs": [],
   "source": [
    "first_element = tuple1[0]"
   ]
  },
  {
   "cell_type": "code",
   "execution_count": 14,
   "id": "1f79bf28-784b-4ee2-abbd-e726a25d0bdd",
   "metadata": {},
   "outputs": [
    {
     "name": "stdout",
     "output_type": "stream",
     "text": [
      "apple\n"
     ]
    }
   ],
   "source": [
    "print(first_element)"
   ]
  },
  {
   "cell_type": "markdown",
   "id": "5cb6c46a-ba23-4fcd-83dc-fdf0d1488f8f",
   "metadata": {},
   "source": [
    "As you can see, the index operator was used to access the first element of the tuple tuple1, which is the string \"apple\".\n",
    "\n",
    "You can also use negative indexing to access elements in a tuple. Negative indexing starts at the end of the tuple, so -1 refers to the last element, -2 refers to the second to last element, and so on. for example ;"
   ]
  },
  {
   "cell_type": "code",
   "execution_count": 17,
   "id": "aee68417-d35c-445e-9192-1f74557f79a6",
   "metadata": {},
   "outputs": [
    {
     "name": "stdout",
     "output_type": "stream",
     "text": [
      "cherry\n"
     ]
    }
   ],
   "source": [
    "last_element= tuple1[-1]\n",
    "print(last_element)"
   ]
  },
  {
   "cell_type": "markdown",
   "id": "4c1d41fa-b7b8-488c-b6dd-ab027d60b045",
   "metadata": {},
   "source": [
    "Q6. How do you unpack a tuple in Python?"
   ]
  },
  {
   "cell_type": "markdown",
   "id": "cfd5f5ad-1d9b-4201-88f0-82616dd6fb91",
   "metadata": {},
   "source": [
    "A6. To unpack a tuple in Python means to assign the elements of the tuple to separate variables. This is useful when you want to access multiple elements of a tuple at once, or when you want to return multiple values from a function. To unpack a tuple, you need to use the same number of variables as the number of elements in the tuple, and assign them to the tuple name. For example, if you have a tuple named mytuple with three elements, you can unpack it by using three variables like this:"
   ]
  },
  {
   "cell_type": "code",
   "execution_count": 18,
   "id": "d2a6dc08-0099-4a77-9c4e-e6ab5ce3692d",
   "metadata": {},
   "outputs": [
    {
     "name": "stdout",
     "output_type": "stream",
     "text": [
      "apple\n",
      "banana\n",
      "cherry\n"
     ]
    }
   ],
   "source": [
    "# create a tuple with three elements\n",
    "mytuple = (\"apple\", \"banana\", \"cherry\")\n",
    "\n",
    "# unpack the tuple into three variables\n",
    "x, y, z = mytuple\n",
    "\n",
    "# print the variables\n",
    "print(x)\n",
    "print(y)\n",
    "print(z)\n"
   ]
  }
 ],
 "metadata": {
  "kernelspec": {
   "display_name": "Python 3 (ipykernel)",
   "language": "python",
   "name": "python3"
  },
  "language_info": {
   "codemirror_mode": {
    "name": "ipython",
    "version": 3
   },
   "file_extension": ".py",
   "mimetype": "text/x-python",
   "name": "python",
   "nbconvert_exporter": "python",
   "pygments_lexer": "ipython3",
   "version": "3.10.8"
  }
 },
 "nbformat": 4,
 "nbformat_minor": 5
}
